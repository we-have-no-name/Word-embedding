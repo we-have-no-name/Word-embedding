{
 "cells": [
  {
   "cell_type": "code",
   "execution_count": null,
   "metadata": {
    "collapsed": true,
    "deletable": true,
    "editable": true
   },
   "outputs": [],
   "source": [
    "import tensorflow as tf \n",
    "import numpy as np \n",
    "import pickle, json\n",
    "import os, time\n",
    "import re"
   ]
  },
  {
   "cell_type": "code",
   "execution_count": null,
   "metadata": {
    "collapsed": false,
    "deletable": true,
    "editable": true
   },
   "outputs": [],
   "source": [
    "with open('config.json') as json_config_file:\n",
    "    user_config = json.load(json_config_file)\n",
    "    data_path = user_config.get('data_path', os.getcwd())\n",
    "\n",
    "# user_config = {}\n",
    "# user_config['data_path'] = r\"<your_path_here>\"\n",
    "\n",
    "# with open('config.json', 'w') as json_config_file:\n",
    "#     json.dump(user_config, json_config_file)"
   ]
  },
  {
   "cell_type": "markdown",
   "metadata": {
    "deletable": true,
    "editable": true
   },
   "source": [
    "change user config"
   ]
  },
  {
   "cell_type": "code",
   "execution_count": null,
   "metadata": {
    "collapsed": true,
    "deletable": true,
    "editable": true
   },
   "outputs": [],
   "source": [
    "# user_config = {}\n",
    "# user_config['data_path'] = r\"<your_path_here>\"\n",
    "\n",
    "# with open('config.json', 'w') as json_config_file:\n",
    "#     json.dump(user_config, json_config_file)"
   ]
  },
  {
   "cell_type": "code",
   "execution_count": null,
   "metadata": {
    "collapsed": true,
    "deletable": true,
    "editable": true
   },
   "outputs": [],
   "source": [
    "vocab_size=int(1.2e6)\n",
    "embedding_dim=200"
   ]
  },
  {
   "cell_type": "code",
   "execution_count": null,
   "metadata": {
    "collapsed": false,
    "deletable": true,
    "editable": true
   },
   "outputs": [],
   "source": [
    "os.chdir(data_path)\n",
    "embedding_folder = \"d\" + str(embedding_dim) +\"_word_embedding\"\n",
    "if not os.path.exists(embedding_folder): os.makedirs(embedding_folder)\n",
    "embedding_file = open(os.path.join(\"glove.twitter.27B\", \"glove.twitter.27B.\" + str(embedding_dim) + \"d.txt\"),\"r\",encoding=\"utf-8\")\n",
    "os.chdir(embedding_folder)"
   ]
  },
  {
   "cell_type": "code",
   "execution_count": null,
   "metadata": {
    "collapsed": false,
    "deletable": true,
    "editable": true
   },
   "outputs": [],
   "source": [
    "np_embedding = np.zeros((int(1.2e6), embedding_dim), dtype=np.float16)\n",
    "word_dict = dict()\n",
    "word_dict2 = dict()"
   ]
  },
  {
   "cell_type": "code",
   "execution_count": null,
   "metadata": {
    "collapsed": false,
    "deletable": true,
    "editable": true
   },
   "outputs": [],
   "source": [
    "start_time = time.time()\n",
    "line = None\n",
    "for i in range(int(1.2e6)):\n",
    "    global line,wordvec,line0\n",
    "    line0=embedding_file.readline()\n",
    "    if line0 is None or len(line0)==0 : break\n",
    "    line = line0[:-1].split(\" \")\n",
    "    tags_pattern = '^<(url|user|smile|lolface|sadface|neutralface|heart|number|repeat|elong|hashtag|allcaps|)>$'\n",
    "    word=re.sub(tags_pattern, r'ᐸ\\1ᐳ', line[0])\n",
    "    word_dict[line[0]]=i\n",
    "    word_dict2[word]=i\n",
    "    wordvec=np.array(line[1:],dtype=np.float16)\n",
    "    np_embedding[i]=wordvec\n",
    "print(\"\\nexecution time: {:.9f} seconds\".format(time.time() - start_time))"
   ]
  },
  {
   "cell_type": "code",
   "execution_count": null,
   "metadata": {
    "collapsed": true,
    "deletable": true,
    "editable": true
   },
   "outputs": [],
   "source": [
    "word_dict_file=open(\"word_dict.pickle\", 'wb')\n",
    "pickle.dump(word_dict, word_dict_file)\n",
    "word_dict2_file=open(\"word_dict2.pickle\", 'wb')\n",
    "pickle.dump(word_dict2, word_dict2_file)"
   ]
  },
  {
   "cell_type": "code",
   "execution_count": null,
   "metadata": {
    "collapsed": false,
    "deletable": true,
    "editable": true
   },
   "outputs": [],
   "source": [
    "word_embedding_file = open(\"word_embeddings_ndarray.pickle\", 'wb')\n",
    "pickle.dump(np_embedding, word_embedding_file)"
   ]
  },
  {
   "cell_type": "markdown",
   "metadata": {
    "deletable": true,
    "editable": true
   },
   "source": [
    "save vocabulary to a file"
   ]
  },
  {
   "cell_type": "code",
   "execution_count": null,
   "metadata": {
    "collapsed": false,
    "deletable": true,
    "editable": true
   },
   "outputs": [],
   "source": [
    "words_file = open(\"vocabulary.txt\", 'w', encoding='utf-8')\n",
    "for key, _ in sorted(word_dict2.items(), key=lambda i: i[1]):\n",
    "    words_file.write(key + '\\n')\n",
    "words_file.close()"
   ]
  },
  {
   "cell_type": "markdown",
   "metadata": {
    "deletable": true,
    "editable": true
   },
   "source": [
    "# Session save"
   ]
  },
  {
   "cell_type": "code",
   "execution_count": null,
   "metadata": {
    "collapsed": false,
    "deletable": true,
    "editable": true,
    "scrolled": true
   },
   "outputs": [],
   "source": [
    "tf.reset_default_graph()\n",
    "embedding=tf.Variable(tf.constant(0, dtype=tf.float16, shape=(vocab_size, embedding_dim)), trainable=False, name='embedding')\n",
    "embedding_ph = tf.placeholder(tf.float16, [vocab_size, embedding_dim])\n",
    "embedding_init= embedding.assign(embedding_ph)\n",
    "\n",
    "sess = tf.Session()\n",
    "_ = sess.run(embedding_init, feed_dict={embedding_ph: np_embedding})"
   ]
  },
  {
   "cell_type": "code",
   "execution_count": null,
   "metadata": {
    "collapsed": false,
    "deletable": true,
    "editable": true
   },
   "outputs": [],
   "source": [
    "sess_save_folder = \"TF_Variables\"\n",
    "if not os.path.exists(sess_save_folder): os.makedirs(sess_save_folder)\n",
    "saver=tf.train.Saver({'embedding': embedding})\n",
    "saver.save(sess, os.path.join(os.getcwd(), sess_save_folder, \"Embedding\"))"
   ]
  }
 ],
 "metadata": {
  "kernelspec": {
   "display_name": "Python 3",
   "language": "python",
   "name": "python3"
  },
  "language_info": {
   "codemirror_mode": {
    "name": "ipython",
    "version": 3
   },
   "file_extension": ".py",
   "mimetype": "text/x-python",
   "name": "python",
   "nbconvert_exporter": "python",
   "pygments_lexer": "ipython3",
   "version": "3.5.2"
  }
 },
 "nbformat": 4,
 "nbformat_minor": 2
}
